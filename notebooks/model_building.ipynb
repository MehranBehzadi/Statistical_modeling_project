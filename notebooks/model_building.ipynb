{
 "cells": [
  {
   "cell_type": "markdown",
   "metadata": {},
   "source": [
    "Build a regression model."
   ]
  },
  {
   "cell_type": "code",
   "execution_count": 1,
   "metadata": {},
   "outputs": [],
   "source": [
    "import pandas as pd\n",
    "import seaborn as sns\n",
    "import matplotlib.pyplot as plt\n",
    "import statsmodels.api as sm\n"
   ]
  },
  {
   "cell_type": "code",
   "execution_count": 3,
   "metadata": {},
   "outputs": [],
   "source": [
    "# Loading the final data file \n",
    "final_data = pd.read_csv('data/final_merged_bike_station_data.csv')"
   ]
  },
  {
   "cell_type": "code",
   "execution_count": 5,
   "metadata": {},
   "outputs": [],
   "source": [
    "# Define the dependent variable (target) and independent variables (predictors)\n",
    "X = final_data[['distance_x', 'latitude_x', 'longitude_x']]  # Predictor variables (POI characteristics)\n",
    "y = final_data['Bikes available']  # Dependent variable (number of bikes available)\n",
    "\n",
    "# 2. Add a constant to the independent variables (for the intercept in the model)\n",
    "X = sm.add_constant(X)"
   ]
  },
  {
   "cell_type": "markdown",
   "metadata": {},
   "source": [
    "Provide model output and an interpretation of the results. "
   ]
  },
  {
   "cell_type": "code",
   "execution_count": 6,
   "metadata": {},
   "outputs": [
    {
     "name": "stdout",
     "output_type": "stream",
     "text": [
      "                            OLS Regression Results                            \n",
      "==============================================================================\n",
      "Dep. Variable:        Bikes available   R-squared:                       0.088\n",
      "Model:                            OLS   Adj. R-squared:                  0.088\n",
      "Method:                 Least Squares   F-statistic:                     3578.\n",
      "Date:                Sun, 08 Dec 2024   Prob (F-statistic):               0.00\n",
      "Time:                        17:14:23   Log-Likelihood:            -3.4289e+05\n",
      "No. Observations:              111870   AIC:                         6.858e+05\n",
      "Df Residuals:                  111866   BIC:                         6.858e+05\n",
      "Df Model:                           3                                         \n",
      "Covariance Type:            nonrobust                                         \n",
      "===============================================================================\n",
      "                  coef    std err          t      P>|t|      [0.025      0.975]\n",
      "-------------------------------------------------------------------------------\n",
      "const       -8706.5957     88.001    -98.938      0.000   -8879.076   -8534.115\n",
      "distance_x     -0.0004   6.47e-05     -5.425      0.000      -0.000      -0.000\n",
      "latitude_x    126.5917      1.373     92.228      0.000     123.901     129.282\n",
      "longitude_x   -20.1204      0.440    -45.708      0.000     -20.983     -19.258\n",
      "==============================================================================\n",
      "Omnibus:                    10016.600   Durbin-Watson:                   0.007\n",
      "Prob(Omnibus):                  0.000   Jarque-Bera (JB):            13658.803\n",
      "Skew:                           0.745   Prob(JB):                         0.00\n",
      "Kurtosis:                       3.842   Cond. No.                     3.94e+06\n",
      "==============================================================================\n",
      "\n",
      "Notes:\n",
      "[1] Standard Errors assume that the covariance matrix of the errors is correctly specified.\n",
      "[2] The condition number is large, 3.94e+06. This might indicate that there are\n",
      "strong multicollinearity or other numerical problems.\n"
     ]
    }
   ],
   "source": [
    "\n",
    "#  Fit the regression model\n",
    "model = sm.OLS(y, X)  # OLS stands for Ordinary Least Squares regression\n",
    "results = model.fit()\n",
    "\n",
    "# Show the summary of the regression results\n",
    "print(results.summary())"
   ]
  },
  {
   "cell_type": "markdown",
   "metadata": {},
   "source": [
    "An R-squared value of 0.088 suggests that the independent variables (the characteristics of the points of interest in the surrounding area) explain only 8.8% of the variance in the number of bikes available at each bike station.\n",
    "\n",
    "The low R-squared value indicates that the characteristics of the POIs (such as distance, latitude, and longitude) have a relatively weak relationship with the number of bikes available at each station. The model explains very little of the variability in bike availability.This suggests that the number of bikes available at each station is influenced by other factors that are not captured by the current model.\n"
   ]
  },
  {
   "cell_type": "code",
   "execution_count": 7,
   "metadata": {},
   "outputs": [
    {
     "data": {
      "image/png": "[encoded data removed]",
      "text/plain": [
       "<Figure size 640x480 with 1 Axes>"
      ]
     },
     "metadata": {},
     "output_type": "display_data"
    }
   ],
   "source": [
    "resids = results.resid\n",
    "\n",
    "sns.histplot(resids)\n",
    "plt.show()"
   ]
  },
  {
   "cell_type": "code",
   "execution_count": 8,
   "metadata": {},
   "outputs": [
    {
     "data": {
      "text/plain": [
       "const         -8706.595679\n",
       "distance_x       -0.000351\n",
       "latitude_x      126.591700\n",
       "longitude_x     -20.120436\n",
       "dtype: float64"
      ]
     },
     "execution_count": 8,
     "metadata": {},
     "output_type": "execute_result"
    }
   ],
   "source": [
    "#the co-efficients\n",
    "results.params"
   ]
  },
  {
   "cell_type": "markdown",
   "metadata": {},
   "source": [
    "The regression model suggests that distance to POIs negatively impacts bike availability, while latitude positively affects it, and longitude has a negative effect. However, with an R-squared value of 0.088, the model explains only a small portion of the variation in bike availability, indicating that additional factors may be needed to improve predictions."
   ]
  },
  {
   "cell_type": "markdown",
   "metadata": {},
   "source": [
    "# Stretch"
   ]
  },
  {
   "cell_type": "markdown",
   "metadata": {},
   "source": [
    "How can you turn the regression model into a classification model?"
   ]
  },
  {
   "cell_type": "code",
   "execution_count": null,
   "metadata": {},
   "outputs": [],
   "source": []
  }
 ],
 "metadata": {
  "kernelspec": {
   "display_name": "the_one",
   "language": "python",
   "name": "python3"
  },
  "language_info": {
   "codemirror_mode": {
    "name": "ipython",
    "version": 3
   },
   "file_extension": ".py",
   "mimetype": "text/x-python",
   "name": "python",
   "nbconvert_exporter": "python",
   "pygments_lexer": "ipython3",
   "version": "3.9.15"
  }
 },
 "nbformat": 4,
 "nbformat_minor": 4
}
